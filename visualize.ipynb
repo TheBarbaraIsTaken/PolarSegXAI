{
 "cells": [
  {
   "cell_type": "code",
   "execution_count": 2,
   "metadata": {},
   "outputs": [],
   "source": [
    "import open3d as o3d\n",
    "import numpy as np\n",
    "from pcd_helper import *"
   ]
  },
  {
   "cell_type": "code",
   "execution_count": 3,
   "metadata": {},
   "outputs": [],
   "source": [
    "scene = \"08\"\n",
    "file = \"000000\"\n",
    "\n",
    "# Path to the Velodyne .bin file and .label file\n",
    "bin_file_path = f'data/sequences/{scene}/velodyne/{file}.bin'\n",
    "label_file = f\"data/sequences/{scene}/labels/{file}.label\"\n",
    "label_output_path = f\"out/predicted_labels/{scene}/{file}.npy\""
   ]
  },
  {
   "cell_type": "code",
   "execution_count": 4,
   "metadata": {},
   "outputs": [],
   "source": [
    "# Load data\n",
    "\n",
    "# Read the point cloud data\n",
    "points = read_velodyne_bin(bin_file_path)\n",
    "\n",
    "# Extract x, y, z coordinates (first three columns)\n",
    "xyz = points[:, :3]\n",
    "\n",
    "# Load labels\n",
    "labels = load_labels(label_file)\n",
    "true_colors = label2color(labels)\n",
    "\n",
    "# Predicted labels\n",
    "predicted_grid_labels = np.load(label_output_path)\n",
    "predicted_colors = grid_label2color(xyz, predicted_grid_labels)"
   ]
  },
  {
   "cell_type": "code",
   "execution_count": 7,
   "metadata": {},
   "outputs": [],
   "source": [
    "# Visualize true labels\n",
    "\n",
    "# Create Open3D PointCloud object\n",
    "pcd = o3d.geometry.PointCloud()\n",
    "pcd.points = o3d.utility.Vector3dVector(xyz)\n",
    "pcd.colors = o3d.utility.Vector3dVector(true_colors)\n",
    "\n",
    "\n",
    "# # Add intensity as colors\n",
    "# intensity = points[:, 3]\n",
    "# intensity_colors = np.zeros((points.shape[0], 3))\n",
    "# intensity_colors[:, 0] = intensity  # Using intensity as red color channel for visualization\n",
    "\n",
    "# pcd.colors = o3d.utility.Vector3dVector(intensity_colors)\n",
    "\n",
    "# Visualize the point cloud\n",
    "o3d.visualization.draw_geometries([pcd], window_name=\"Velodyne Point Cloud\", width=800, height=600)"
   ]
  },
  {
   "cell_type": "code",
   "execution_count": 6,
   "metadata": {},
   "outputs": [],
   "source": [
    "# Visualize predicted labels\n",
    "\n",
    "# Create Open3D PointCloud object\n",
    "pcd_pred = o3d.geometry.PointCloud()\n",
    "pcd_pred.points = o3d.utility.Vector3dVector(xyz)\n",
    "pcd_pred.colors = o3d.utility.Vector3dVector(predicted_colors)\n",
    "\n",
    "# Visualize the point cloud\n",
    "o3d.visualization.draw_geometries([pcd_pred], window_name=\"Velodyne Point Cloud\", width=800, height=600)"
   ]
  },
  {
   "cell_type": "code",
   "execution_count": null,
   "metadata": {},
   "outputs": [],
   "source": []
  }
 ],
 "metadata": {
  "kernelspec": {
   "display_name": "Python 3",
   "language": "python",
   "name": "python3"
  },
  "language_info": {
   "codemirror_mode": {
    "name": "ipython",
    "version": 3
   },
   "file_extension": ".py",
   "mimetype": "text/x-python",
   "name": "python",
   "nbconvert_exporter": "python",
   "pygments_lexer": "ipython3",
   "version": "3.10.12"
  }
 },
 "nbformat": 4,
 "nbformat_minor": 2
}
