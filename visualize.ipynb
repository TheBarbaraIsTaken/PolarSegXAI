{
 "cells": [
  {
   "cell_type": "code",
   "execution_count": 2,
   "metadata": {},
   "outputs": [
    {
     "name": "stdout",
     "output_type": "stream",
     "text": [
      "Jupyter environment detected. Enabling Open3D WebVisualizer.\n",
      "[Open3D INFO] WebRTC GUI backend enabled.\n",
      "[Open3D INFO] WebRTCWindowSystem: HTTP handshake server disabled.\n"
     ]
    }
   ],
   "source": [
    "import open3d as o3d\n",
    "import numpy as np\n",
    "from pcd_helper import *\n",
    "import matplotlib.pyplot as plt\n",
    "from sklearn.cluster import KMeans"
   ]
  },
  {
   "cell_type": "code",
   "execution_count": 3,
   "metadata": {},
   "outputs": [],
   "source": [
    "scene = \"08\"\n",
    "file = \"000000\"\n",
    "\n",
    "# Path to the Velodyne .bin file and .label file\n",
    "bin_file_path = f'data/sequences/{scene}/velodyne/{file}.bin'\n",
    "label_file = f\"data/sequences/{scene}/labels/{file}.label\"\n",
    "label_output_path = f\"out/predicted_labels/{scene}/{file}.npy\""
   ]
  },
  {
   "cell_type": "code",
   "execution_count": 4,
   "metadata": {},
   "outputs": [],
   "source": [
    "# Load data\n",
    "\n",
    "# Read the point cloud data\n",
    "points = read_velodyne_bin(bin_file_path)\n",
    "\n",
    "# Extract x, y, z coordinates (first three columns)\n",
    "xyz = points[:, :3]\n",
    "\n",
    "# Load labels\n",
    "true_labels = load_labels(label_file)\n",
    "true_colors = label2color(true_labels)\n",
    "\n",
    "# Predicted labels\n",
    "predicted_grid_labels = np.load(label_output_path)\n",
    "predicted_colors = grid_label2color(xyz, predicted_grid_labels)"
   ]
  },
  {
   "cell_type": "code",
   "execution_count": 12,
   "metadata": {},
   "outputs": [],
   "source": [
    "# Visualize true labels\n",
    "\n",
    "# Create Open3D PointCloud object\n",
    "pcd = o3d.geometry.PointCloud()\n",
    "pcd.points = o3d.utility.Vector3dVector(xyz)\n",
    "pcd.colors = o3d.utility.Vector3dVector(true_colors)\n",
    "\n",
    "\n",
    "# # Add intensity as colors\n",
    "# intensity = points[:, 3]\n",
    "# intensity_colors = np.zeros((points.shape[0], 3))\n",
    "# intensity_colors[:, 0] = intensity  # Using intensity as red color channel for visualization\n",
    "\n",
    "# pcd.colors = o3d.utility.Vector3dVector(intensity_colors)\n",
    "\n",
    "# Visualize the point cloud\n",
    "o3d.visualization.draw_geometries([pcd], window_name=\"Velodyne Point Cloud\", width=800, height=600)"
   ]
  },
  {
   "cell_type": "code",
   "execution_count": 43,
   "metadata": {},
   "outputs": [
    {
     "name": "stdout",
     "output_type": "stream",
     "text": [
      "0.7772607803344727\n"
     ]
    }
   ],
   "source": [
    "from sklearn.cluster import DBSCAN\n",
    "from time import time\n",
    "# Visualize DBscan\n",
    "\n",
    "target = 40  # \"road\"\n",
    "#target = 10  # \"car\"\n",
    "mask = true_labels == target\n",
    "\n",
    "xyz_tmp = xyz[mask]\n",
    "\n",
    "\n",
    "# Create Open3D PointCloud object\n",
    "pcd = o3d.geometry.PointCloud()\n",
    "pcd.points = o3d.utility.Vector3dVector(xyz_tmp)\n",
    "\n",
    "start = time()\n",
    "clustering = DBSCAN(eps=2, min_samples=15).fit(xyz_tmp)\n",
    "#labels = np.array(pcd.cluster_dbscan(eps=2, min_points=15))\n",
    "\n",
    "end = time()\n",
    "\n",
    "print(end-start)\n",
    "\n",
    "# max_label = labels.max()\n",
    "# print(f\"point cloud has {max_label + 1} clusters\")\n",
    "# colors = plt.get_cmap(\"tab20\")(labels / (max_label if max_label > 0 else 1))\n",
    "# colors[labels < 0] = 0\n",
    "# pcd.colors = o3d.utility.Vector3dVector(colors[:, :3])\n",
    "\n",
    "\n",
    "# # Visualize the point cloud\n",
    "# o3d.visualization.draw_geometries([pcd], window_name=\"DBScan Point Cloud\", width=800, height=600)"
   ]
  },
  {
   "cell_type": "code",
   "execution_count": 41,
   "metadata": {},
   "outputs": [
    {
     "name": "stdout",
     "output_type": "stream",
     "text": [
      "1.7208774089813232\n"
     ]
    }
   ],
   "source": [
    "print(end-start)"
   ]
  },
  {
   "cell_type": "code",
   "execution_count": 20,
   "metadata": {},
   "outputs": [
    {
     "name": "stdout",
     "output_type": "stream",
     "text": [
      "point cloud has 3 clusters\n"
     ]
    }
   ],
   "source": [
    "# Visualize K-means\n",
    "\n",
    "target = 40  # \"road\"\n",
    "mask = true_labels == target\n",
    "\n",
    "xyz_tmp = xyz[mask]\n",
    "\n",
    "# Create Open3D PointCloud object\n",
    "pcd = o3d.geometry.PointCloud()\n",
    "pcd.points = o3d.utility.Vector3dVector(xyz_tmp)\n",
    "\n",
    "labels = []\n",
    "score = np.inf\n",
    "\n",
    "scores = []\n",
    "for i in range(3,4):\n",
    "    kmeans = KMeans(n_clusters=i).fit(xyz_tmp)\n",
    "    scores.append(kmeans.inertia_)\n",
    "\n",
    "\n",
    "scores = np.array(scores)\n",
    "diff = abs(np.diff(scores))\n",
    "\n",
    "labels = kmeans.labels_\n",
    "\n",
    "max_label = labels.max()\n",
    "print(f\"point cloud has {max_label + 1} clusters\")\n",
    "colors = plt.get_cmap(\"tab20\")(labels / (max_label if max_label > 0 else 1))\n",
    "colors[labels < 0] = 0\n",
    "pcd.colors = o3d.utility.Vector3dVector(colors[:, :3])\n",
    "\n",
    "\n",
    "# Visualize the point cloud\n",
    "o3d.visualization.draw_geometries([pcd], window_name=\"K-means Point Cloud\", width=800, height=600)"
   ]
  },
  {
   "cell_type": "code",
   "execution_count": 19,
   "metadata": {},
   "outputs": [
    {
     "name": "stdout",
     "output_type": "stream",
     "text": [
      "[3097613.25   1299727.75    773450.3125  576381.6875  433595.25\n",
      "  359054.8125  303015.3125  260165.      222314.5   ]\n",
      "[1797885.5     526277.4375  197068.625   142786.4375   74540.4375\n",
      "   56039.5      42850.3125   37850.5   ]\n"
     ]
    }
   ],
   "source": [
    "print(scores)\n",
    "print(abs(diff))"
   ]
  },
  {
   "cell_type": "code",
   "execution_count": 18,
   "metadata": {},
   "outputs": [
    {
     "data": {
      "text/plain": [
       "[<matplotlib.lines.Line2D at 0x70a81c9bffd0>]"
      ]
     },
     "execution_count": 18,
     "metadata": {},
     "output_type": "execute_result"
    },
    {
     "data": {
      "image/png": "[encoded data removed]",
      "text/plain": [
       "<Figure size 640x480 with 1 Axes>"
      ]
     },
     "metadata": {},
     "output_type": "display_data"
    }
   ],
   "source": [
    "plt.plot(range(1,10),scores)"
   ]
  },
  {
   "cell_type": "code",
   "execution_count": 28,
   "metadata": {},
   "outputs": [
    {
     "data": {
      "text/plain": [
       "(123389, 3)"
      ]
     },
     "execution_count": 28,
     "metadata": {},
     "output_type": "execute_result"
    }
   ],
   "source": [
    "xyz.shape"
   ]
  },
  {
   "cell_type": "code",
   "execution_count": 24,
   "metadata": {},
   "outputs": [
    {
     "data": {
      "text/plain": [
       "(20975, 3)"
      ]
     },
     "execution_count": 24,
     "metadata": {},
     "output_type": "execute_result"
    }
   ],
   "source": [
    "xyz_tmp.shape"
   ]
  },
  {
   "cell_type": "code",
   "execution_count": 23,
   "metadata": {},
   "outputs": [
    {
     "data": {
      "text/plain": [
       "(20975,)"
      ]
     },
     "execution_count": 23,
     "metadata": {},
     "output_type": "execute_result"
    }
   ],
   "source": [
    "kmeans.labels_.shape"
   ]
  },
  {
   "cell_type": "code",
   "execution_count": 6,
   "metadata": {},
   "outputs": [],
   "source": [
    "# Visualize predicted labels\n",
    "\n",
    "# Create Open3D PointCloud object\n",
    "pcd_pred = o3d.geometry.PointCloud()\n",
    "pcd_pred.points = o3d.utility.Vector3dVector(xyz)\n",
    "pcd_pred.colors = o3d.utility.Vector3dVector(predicted_colors)\n",
    "\n",
    "# Visualize the point cloud\n",
    "o3d.visualization.draw_geometries([pcd_pred], window_name=\"Velodyne Point Cloud\", width=800, height=600)"
   ]
  },
  {
   "cell_type": "code",
   "execution_count": null,
   "metadata": {},
   "outputs": [],
   "source": []
  }
 ],
 "metadata": {
  "kernelspec": {
   "display_name": "Python 3",
   "language": "python",
   "name": "python3"
  },
  "language_info": {
   "codemirror_mode": {
    "name": "ipython",
    "version": 3
   },
   "file_extension": ".py",
   "mimetype": "text/x-python",
   "name": "python",
   "nbconvert_exporter": "python",
   "pygments_lexer": "ipython3",
   "version": "3.10.12"
  }
 },
 "nbformat": 4,
 "nbformat_minor": 2
}
